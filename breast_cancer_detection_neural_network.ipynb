{
 "cells": [
  {
   "cell_type": "markdown",
   "id": "594eab9d",
   "metadata": {},
   "source": [
    "# Breast Cancer Detection using Neural Network"
   ]
  },
  {
   "cell_type": "markdown",
   "id": "351bb6bc",
   "metadata": {},
   "source": [
    "## Importing the dependencies"
   ]
  },
  {
   "cell_type": "code",
   "execution_count": 60,
   "id": "1f2122d1",
   "metadata": {},
   "outputs": [],
   "source": [
    "import numpy as np\n",
    "import pandas as pd\n",
    "import matplotlib.pyplot as plt\n",
    "import seaborn as sns\n",
    "from sklearn.preprocessing import StandardScaler\n",
    "from sklearn.model_selection import train_test_split\n",
    "from sklearn.metrics import accuracy_score, confusion_matrix\n",
    "import tensorflow as tf\n",
    "from tensorflow import keras"
   ]
  },
  {
   "cell_type": "markdown",
   "id": "612f7db1",
   "metadata": {},
   "source": [
    "## Data Collection and Analysis"
   ]
  },
  {
   "cell_type": "code",
   "execution_count": 3,
   "id": "e57dbf76",
   "metadata": {},
   "outputs": [],
   "source": [
    "breast_cancer_data = pd.read_csv('data.csv')"
   ]
  },
  {
   "cell_type": "code",
   "execution_count": 4,
   "id": "7da6b7f6",
   "metadata": {},
   "outputs": [
    {
     "data": {
      "text/html": [
       "<div>\n",
       "<style scoped>\n",
       "    .dataframe tbody tr th:only-of-type {\n",
       "        vertical-align: middle;\n",
       "    }\n",
       "\n",
       "    .dataframe tbody tr th {\n",
       "        vertical-align: top;\n",
       "    }\n",
       "\n",
       "    .dataframe thead th {\n",
       "        text-align: right;\n",
       "    }\n",
       "</style>\n",
       "<table border=\"1\" class=\"dataframe\">\n",
       "  <thead>\n",
       "    <tr style=\"text-align: right;\">\n",
       "      <th></th>\n",
       "      <th>id</th>\n",
       "      <th>diagnosis</th>\n",
       "      <th>radius_mean</th>\n",
       "      <th>texture_mean</th>\n",
       "      <th>perimeter_mean</th>\n",
       "      <th>area_mean</th>\n",
       "      <th>smoothness_mean</th>\n",
       "      <th>compactness_mean</th>\n",
       "      <th>concavity_mean</th>\n",
       "      <th>concave points_mean</th>\n",
       "      <th>...</th>\n",
       "      <th>texture_worst</th>\n",
       "      <th>perimeter_worst</th>\n",
       "      <th>area_worst</th>\n",
       "      <th>smoothness_worst</th>\n",
       "      <th>compactness_worst</th>\n",
       "      <th>concavity_worst</th>\n",
       "      <th>concave points_worst</th>\n",
       "      <th>symmetry_worst</th>\n",
       "      <th>fractal_dimension_worst</th>\n",
       "      <th>Unnamed: 32</th>\n",
       "    </tr>\n",
       "  </thead>\n",
       "  <tbody>\n",
       "    <tr>\n",
       "      <th>0</th>\n",
       "      <td>842302</td>\n",
       "      <td>M</td>\n",
       "      <td>17.99</td>\n",
       "      <td>10.38</td>\n",
       "      <td>122.80</td>\n",
       "      <td>1001.0</td>\n",
       "      <td>0.11840</td>\n",
       "      <td>0.27760</td>\n",
       "      <td>0.3001</td>\n",
       "      <td>0.14710</td>\n",
       "      <td>...</td>\n",
       "      <td>17.33</td>\n",
       "      <td>184.60</td>\n",
       "      <td>2019.0</td>\n",
       "      <td>0.1622</td>\n",
       "      <td>0.6656</td>\n",
       "      <td>0.7119</td>\n",
       "      <td>0.2654</td>\n",
       "      <td>0.4601</td>\n",
       "      <td>0.11890</td>\n",
       "      <td>NaN</td>\n",
       "    </tr>\n",
       "    <tr>\n",
       "      <th>1</th>\n",
       "      <td>842517</td>\n",
       "      <td>M</td>\n",
       "      <td>20.57</td>\n",
       "      <td>17.77</td>\n",
       "      <td>132.90</td>\n",
       "      <td>1326.0</td>\n",
       "      <td>0.08474</td>\n",
       "      <td>0.07864</td>\n",
       "      <td>0.0869</td>\n",
       "      <td>0.07017</td>\n",
       "      <td>...</td>\n",
       "      <td>23.41</td>\n",
       "      <td>158.80</td>\n",
       "      <td>1956.0</td>\n",
       "      <td>0.1238</td>\n",
       "      <td>0.1866</td>\n",
       "      <td>0.2416</td>\n",
       "      <td>0.1860</td>\n",
       "      <td>0.2750</td>\n",
       "      <td>0.08902</td>\n",
       "      <td>NaN</td>\n",
       "    </tr>\n",
       "    <tr>\n",
       "      <th>2</th>\n",
       "      <td>84300903</td>\n",
       "      <td>M</td>\n",
       "      <td>19.69</td>\n",
       "      <td>21.25</td>\n",
       "      <td>130.00</td>\n",
       "      <td>1203.0</td>\n",
       "      <td>0.10960</td>\n",
       "      <td>0.15990</td>\n",
       "      <td>0.1974</td>\n",
       "      <td>0.12790</td>\n",
       "      <td>...</td>\n",
       "      <td>25.53</td>\n",
       "      <td>152.50</td>\n",
       "      <td>1709.0</td>\n",
       "      <td>0.1444</td>\n",
       "      <td>0.4245</td>\n",
       "      <td>0.4504</td>\n",
       "      <td>0.2430</td>\n",
       "      <td>0.3613</td>\n",
       "      <td>0.08758</td>\n",
       "      <td>NaN</td>\n",
       "    </tr>\n",
       "    <tr>\n",
       "      <th>3</th>\n",
       "      <td>84348301</td>\n",
       "      <td>M</td>\n",
       "      <td>11.42</td>\n",
       "      <td>20.38</td>\n",
       "      <td>77.58</td>\n",
       "      <td>386.1</td>\n",
       "      <td>0.14250</td>\n",
       "      <td>0.28390</td>\n",
       "      <td>0.2414</td>\n",
       "      <td>0.10520</td>\n",
       "      <td>...</td>\n",
       "      <td>26.50</td>\n",
       "      <td>98.87</td>\n",
       "      <td>567.7</td>\n",
       "      <td>0.2098</td>\n",
       "      <td>0.8663</td>\n",
       "      <td>0.6869</td>\n",
       "      <td>0.2575</td>\n",
       "      <td>0.6638</td>\n",
       "      <td>0.17300</td>\n",
       "      <td>NaN</td>\n",
       "    </tr>\n",
       "    <tr>\n",
       "      <th>4</th>\n",
       "      <td>84358402</td>\n",
       "      <td>M</td>\n",
       "      <td>20.29</td>\n",
       "      <td>14.34</td>\n",
       "      <td>135.10</td>\n",
       "      <td>1297.0</td>\n",
       "      <td>0.10030</td>\n",
       "      <td>0.13280</td>\n",
       "      <td>0.1980</td>\n",
       "      <td>0.10430</td>\n",
       "      <td>...</td>\n",
       "      <td>16.67</td>\n",
       "      <td>152.20</td>\n",
       "      <td>1575.0</td>\n",
       "      <td>0.1374</td>\n",
       "      <td>0.2050</td>\n",
       "      <td>0.4000</td>\n",
       "      <td>0.1625</td>\n",
       "      <td>0.2364</td>\n",
       "      <td>0.07678</td>\n",
       "      <td>NaN</td>\n",
       "    </tr>\n",
       "  </tbody>\n",
       "</table>\n",
       "<p>5 rows × 33 columns</p>\n",
       "</div>"
      ],
      "text/plain": [
       "         id diagnosis  radius_mean  texture_mean  perimeter_mean  area_mean  \\\n",
       "0    842302         M        17.99         10.38          122.80     1001.0   \n",
       "1    842517         M        20.57         17.77          132.90     1326.0   \n",
       "2  84300903         M        19.69         21.25          130.00     1203.0   \n",
       "3  84348301         M        11.42         20.38           77.58      386.1   \n",
       "4  84358402         M        20.29         14.34          135.10     1297.0   \n",
       "\n",
       "   smoothness_mean  compactness_mean  concavity_mean  concave points_mean  \\\n",
       "0          0.11840           0.27760          0.3001              0.14710   \n",
       "1          0.08474           0.07864          0.0869              0.07017   \n",
       "2          0.10960           0.15990          0.1974              0.12790   \n",
       "3          0.14250           0.28390          0.2414              0.10520   \n",
       "4          0.10030           0.13280          0.1980              0.10430   \n",
       "\n",
       "   ...  texture_worst  perimeter_worst  area_worst  smoothness_worst  \\\n",
       "0  ...          17.33           184.60      2019.0            0.1622   \n",
       "1  ...          23.41           158.80      1956.0            0.1238   \n",
       "2  ...          25.53           152.50      1709.0            0.1444   \n",
       "3  ...          26.50            98.87       567.7            0.2098   \n",
       "4  ...          16.67           152.20      1575.0            0.1374   \n",
       "\n",
       "   compactness_worst  concavity_worst  concave points_worst  symmetry_worst  \\\n",
       "0             0.6656           0.7119                0.2654          0.4601   \n",
       "1             0.1866           0.2416                0.1860          0.2750   \n",
       "2             0.4245           0.4504                0.2430          0.3613   \n",
       "3             0.8663           0.6869                0.2575          0.6638   \n",
       "4             0.2050           0.4000                0.1625          0.2364   \n",
       "\n",
       "   fractal_dimension_worst  Unnamed: 32  \n",
       "0                  0.11890          NaN  \n",
       "1                  0.08902          NaN  \n",
       "2                  0.08758          NaN  \n",
       "3                  0.17300          NaN  \n",
       "4                  0.07678          NaN  \n",
       "\n",
       "[5 rows x 33 columns]"
      ]
     },
     "execution_count": 4,
     "metadata": {},
     "output_type": "execute_result"
    }
   ],
   "source": [
    "breast_cancer_data.head()"
   ]
  },
  {
   "cell_type": "code",
   "execution_count": 5,
   "id": "a0841976",
   "metadata": {},
   "outputs": [
    {
     "data": {
      "text/plain": [
       "(569, 33)"
      ]
     },
     "execution_count": 5,
     "metadata": {},
     "output_type": "execute_result"
    }
   ],
   "source": [
    "breast_cancer_data.shape"
   ]
  },
  {
   "cell_type": "code",
   "execution_count": 6,
   "id": "cf905599",
   "metadata": {},
   "outputs": [
    {
     "name": "stdout",
     "output_type": "stream",
     "text": [
      "<class 'pandas.core.frame.DataFrame'>\n",
      "RangeIndex: 569 entries, 0 to 568\n",
      "Data columns (total 33 columns):\n",
      " #   Column                   Non-Null Count  Dtype  \n",
      "---  ------                   --------------  -----  \n",
      " 0   id                       569 non-null    int64  \n",
      " 1   diagnosis                569 non-null    object \n",
      " 2   radius_mean              569 non-null    float64\n",
      " 3   texture_mean             569 non-null    float64\n",
      " 4   perimeter_mean           569 non-null    float64\n",
      " 5   area_mean                569 non-null    float64\n",
      " 6   smoothness_mean          569 non-null    float64\n",
      " 7   compactness_mean         569 non-null    float64\n",
      " 8   concavity_mean           569 non-null    float64\n",
      " 9   concave points_mean      569 non-null    float64\n",
      " 10  symmetry_mean            569 non-null    float64\n",
      " 11  fractal_dimension_mean   569 non-null    float64\n",
      " 12  radius_se                569 non-null    float64\n",
      " 13  texture_se               569 non-null    float64\n",
      " 14  perimeter_se             569 non-null    float64\n",
      " 15  area_se                  569 non-null    float64\n",
      " 16  smoothness_se            569 non-null    float64\n",
      " 17  compactness_se           569 non-null    float64\n",
      " 18  concavity_se             569 non-null    float64\n",
      " 19  concave points_se        569 non-null    float64\n",
      " 20  symmetry_se              569 non-null    float64\n",
      " 21  fractal_dimension_se     569 non-null    float64\n",
      " 22  radius_worst             569 non-null    float64\n",
      " 23  texture_worst            569 non-null    float64\n",
      " 24  perimeter_worst          569 non-null    float64\n",
      " 25  area_worst               569 non-null    float64\n",
      " 26  smoothness_worst         569 non-null    float64\n",
      " 27  compactness_worst        569 non-null    float64\n",
      " 28  concavity_worst          569 non-null    float64\n",
      " 29  concave points_worst     569 non-null    float64\n",
      " 30  symmetry_worst           569 non-null    float64\n",
      " 31  fractal_dimension_worst  569 non-null    float64\n",
      " 32  Unnamed: 32              0 non-null      float64\n",
      "dtypes: float64(31), int64(1), object(1)\n",
      "memory usage: 146.8+ KB\n"
     ]
    }
   ],
   "source": [
    "breast_cancer_data.info()"
   ]
  },
  {
   "cell_type": "code",
   "execution_count": 8,
   "id": "f779a19a",
   "metadata": {},
   "outputs": [],
   "source": [
    "breast_cancer_data.drop(columns=['Unnamed: 32'], inplace=True)"
   ]
  },
  {
   "cell_type": "code",
   "execution_count": 9,
   "id": "f2c34c81",
   "metadata": {},
   "outputs": [
    {
     "data": {
      "text/plain": [
       "id                         0\n",
       "diagnosis                  0\n",
       "radius_mean                0\n",
       "texture_mean               0\n",
       "perimeter_mean             0\n",
       "area_mean                  0\n",
       "smoothness_mean            0\n",
       "compactness_mean           0\n",
       "concavity_mean             0\n",
       "concave points_mean        0\n",
       "symmetry_mean              0\n",
       "fractal_dimension_mean     0\n",
       "radius_se                  0\n",
       "texture_se                 0\n",
       "perimeter_se               0\n",
       "area_se                    0\n",
       "smoothness_se              0\n",
       "compactness_se             0\n",
       "concavity_se               0\n",
       "concave points_se          0\n",
       "symmetry_se                0\n",
       "fractal_dimension_se       0\n",
       "radius_worst               0\n",
       "texture_worst              0\n",
       "perimeter_worst            0\n",
       "area_worst                 0\n",
       "smoothness_worst           0\n",
       "compactness_worst          0\n",
       "concavity_worst            0\n",
       "concave points_worst       0\n",
       "symmetry_worst             0\n",
       "fractal_dimension_worst    0\n",
       "dtype: int64"
      ]
     },
     "execution_count": 9,
     "metadata": {},
     "output_type": "execute_result"
    }
   ],
   "source": [
    "breast_cancer_data.isnull().sum()"
   ]
  },
  {
   "cell_type": "code",
   "execution_count": 10,
   "id": "defe54ed",
   "metadata": {},
   "outputs": [
    {
     "data": {
      "text/html": [
       "<div>\n",
       "<style scoped>\n",
       "    .dataframe tbody tr th:only-of-type {\n",
       "        vertical-align: middle;\n",
       "    }\n",
       "\n",
       "    .dataframe tbody tr th {\n",
       "        vertical-align: top;\n",
       "    }\n",
       "\n",
       "    .dataframe thead th {\n",
       "        text-align: right;\n",
       "    }\n",
       "</style>\n",
       "<table border=\"1\" class=\"dataframe\">\n",
       "  <thead>\n",
       "    <tr style=\"text-align: right;\">\n",
       "      <th></th>\n",
       "      <th>id</th>\n",
       "      <th>radius_mean</th>\n",
       "      <th>texture_mean</th>\n",
       "      <th>perimeter_mean</th>\n",
       "      <th>area_mean</th>\n",
       "      <th>smoothness_mean</th>\n",
       "      <th>compactness_mean</th>\n",
       "      <th>concavity_mean</th>\n",
       "      <th>concave points_mean</th>\n",
       "      <th>symmetry_mean</th>\n",
       "      <th>...</th>\n",
       "      <th>radius_worst</th>\n",
       "      <th>texture_worst</th>\n",
       "      <th>perimeter_worst</th>\n",
       "      <th>area_worst</th>\n",
       "      <th>smoothness_worst</th>\n",
       "      <th>compactness_worst</th>\n",
       "      <th>concavity_worst</th>\n",
       "      <th>concave points_worst</th>\n",
       "      <th>symmetry_worst</th>\n",
       "      <th>fractal_dimension_worst</th>\n",
       "    </tr>\n",
       "  </thead>\n",
       "  <tbody>\n",
       "    <tr>\n",
       "      <th>count</th>\n",
       "      <td>5.690000e+02</td>\n",
       "      <td>569.000000</td>\n",
       "      <td>569.000000</td>\n",
       "      <td>569.000000</td>\n",
       "      <td>569.000000</td>\n",
       "      <td>569.000000</td>\n",
       "      <td>569.000000</td>\n",
       "      <td>569.000000</td>\n",
       "      <td>569.000000</td>\n",
       "      <td>569.000000</td>\n",
       "      <td>...</td>\n",
       "      <td>569.000000</td>\n",
       "      <td>569.000000</td>\n",
       "      <td>569.000000</td>\n",
       "      <td>569.000000</td>\n",
       "      <td>569.000000</td>\n",
       "      <td>569.000000</td>\n",
       "      <td>569.000000</td>\n",
       "      <td>569.000000</td>\n",
       "      <td>569.000000</td>\n",
       "      <td>569.000000</td>\n",
       "    </tr>\n",
       "    <tr>\n",
       "      <th>mean</th>\n",
       "      <td>3.037183e+07</td>\n",
       "      <td>14.127292</td>\n",
       "      <td>19.289649</td>\n",
       "      <td>91.969033</td>\n",
       "      <td>654.889104</td>\n",
       "      <td>0.096360</td>\n",
       "      <td>0.104341</td>\n",
       "      <td>0.088799</td>\n",
       "      <td>0.048919</td>\n",
       "      <td>0.181162</td>\n",
       "      <td>...</td>\n",
       "      <td>16.269190</td>\n",
       "      <td>25.677223</td>\n",
       "      <td>107.261213</td>\n",
       "      <td>880.583128</td>\n",
       "      <td>0.132369</td>\n",
       "      <td>0.254265</td>\n",
       "      <td>0.272188</td>\n",
       "      <td>0.114606</td>\n",
       "      <td>0.290076</td>\n",
       "      <td>0.083946</td>\n",
       "    </tr>\n",
       "    <tr>\n",
       "      <th>std</th>\n",
       "      <td>1.250206e+08</td>\n",
       "      <td>3.524049</td>\n",
       "      <td>4.301036</td>\n",
       "      <td>24.298981</td>\n",
       "      <td>351.914129</td>\n",
       "      <td>0.014064</td>\n",
       "      <td>0.052813</td>\n",
       "      <td>0.079720</td>\n",
       "      <td>0.038803</td>\n",
       "      <td>0.027414</td>\n",
       "      <td>...</td>\n",
       "      <td>4.833242</td>\n",
       "      <td>6.146258</td>\n",
       "      <td>33.602542</td>\n",
       "      <td>569.356993</td>\n",
       "      <td>0.022832</td>\n",
       "      <td>0.157336</td>\n",
       "      <td>0.208624</td>\n",
       "      <td>0.065732</td>\n",
       "      <td>0.061867</td>\n",
       "      <td>0.018061</td>\n",
       "    </tr>\n",
       "    <tr>\n",
       "      <th>min</th>\n",
       "      <td>8.670000e+03</td>\n",
       "      <td>6.981000</td>\n",
       "      <td>9.710000</td>\n",
       "      <td>43.790000</td>\n",
       "      <td>143.500000</td>\n",
       "      <td>0.052630</td>\n",
       "      <td>0.019380</td>\n",
       "      <td>0.000000</td>\n",
       "      <td>0.000000</td>\n",
       "      <td>0.106000</td>\n",
       "      <td>...</td>\n",
       "      <td>7.930000</td>\n",
       "      <td>12.020000</td>\n",
       "      <td>50.410000</td>\n",
       "      <td>185.200000</td>\n",
       "      <td>0.071170</td>\n",
       "      <td>0.027290</td>\n",
       "      <td>0.000000</td>\n",
       "      <td>0.000000</td>\n",
       "      <td>0.156500</td>\n",
       "      <td>0.055040</td>\n",
       "    </tr>\n",
       "    <tr>\n",
       "      <th>25%</th>\n",
       "      <td>8.692180e+05</td>\n",
       "      <td>11.700000</td>\n",
       "      <td>16.170000</td>\n",
       "      <td>75.170000</td>\n",
       "      <td>420.300000</td>\n",
       "      <td>0.086370</td>\n",
       "      <td>0.064920</td>\n",
       "      <td>0.029560</td>\n",
       "      <td>0.020310</td>\n",
       "      <td>0.161900</td>\n",
       "      <td>...</td>\n",
       "      <td>13.010000</td>\n",
       "      <td>21.080000</td>\n",
       "      <td>84.110000</td>\n",
       "      <td>515.300000</td>\n",
       "      <td>0.116600</td>\n",
       "      <td>0.147200</td>\n",
       "      <td>0.114500</td>\n",
       "      <td>0.064930</td>\n",
       "      <td>0.250400</td>\n",
       "      <td>0.071460</td>\n",
       "    </tr>\n",
       "    <tr>\n",
       "      <th>50%</th>\n",
       "      <td>9.060240e+05</td>\n",
       "      <td>13.370000</td>\n",
       "      <td>18.840000</td>\n",
       "      <td>86.240000</td>\n",
       "      <td>551.100000</td>\n",
       "      <td>0.095870</td>\n",
       "      <td>0.092630</td>\n",
       "      <td>0.061540</td>\n",
       "      <td>0.033500</td>\n",
       "      <td>0.179200</td>\n",
       "      <td>...</td>\n",
       "      <td>14.970000</td>\n",
       "      <td>25.410000</td>\n",
       "      <td>97.660000</td>\n",
       "      <td>686.500000</td>\n",
       "      <td>0.131300</td>\n",
       "      <td>0.211900</td>\n",
       "      <td>0.226700</td>\n",
       "      <td>0.099930</td>\n",
       "      <td>0.282200</td>\n",
       "      <td>0.080040</td>\n",
       "    </tr>\n",
       "    <tr>\n",
       "      <th>75%</th>\n",
       "      <td>8.813129e+06</td>\n",
       "      <td>15.780000</td>\n",
       "      <td>21.800000</td>\n",
       "      <td>104.100000</td>\n",
       "      <td>782.700000</td>\n",
       "      <td>0.105300</td>\n",
       "      <td>0.130400</td>\n",
       "      <td>0.130700</td>\n",
       "      <td>0.074000</td>\n",
       "      <td>0.195700</td>\n",
       "      <td>...</td>\n",
       "      <td>18.790000</td>\n",
       "      <td>29.720000</td>\n",
       "      <td>125.400000</td>\n",
       "      <td>1084.000000</td>\n",
       "      <td>0.146000</td>\n",
       "      <td>0.339100</td>\n",
       "      <td>0.382900</td>\n",
       "      <td>0.161400</td>\n",
       "      <td>0.317900</td>\n",
       "      <td>0.092080</td>\n",
       "    </tr>\n",
       "    <tr>\n",
       "      <th>max</th>\n",
       "      <td>9.113205e+08</td>\n",
       "      <td>28.110000</td>\n",
       "      <td>39.280000</td>\n",
       "      <td>188.500000</td>\n",
       "      <td>2501.000000</td>\n",
       "      <td>0.163400</td>\n",
       "      <td>0.345400</td>\n",
       "      <td>0.426800</td>\n",
       "      <td>0.201200</td>\n",
       "      <td>0.304000</td>\n",
       "      <td>...</td>\n",
       "      <td>36.040000</td>\n",
       "      <td>49.540000</td>\n",
       "      <td>251.200000</td>\n",
       "      <td>4254.000000</td>\n",
       "      <td>0.222600</td>\n",
       "      <td>1.058000</td>\n",
       "      <td>1.252000</td>\n",
       "      <td>0.291000</td>\n",
       "      <td>0.663800</td>\n",
       "      <td>0.207500</td>\n",
       "    </tr>\n",
       "  </tbody>\n",
       "</table>\n",
       "<p>8 rows × 31 columns</p>\n",
       "</div>"
      ],
      "text/plain": [
       "                 id  radius_mean  texture_mean  perimeter_mean    area_mean  \\\n",
       "count  5.690000e+02   569.000000    569.000000      569.000000   569.000000   \n",
       "mean   3.037183e+07    14.127292     19.289649       91.969033   654.889104   \n",
       "std    1.250206e+08     3.524049      4.301036       24.298981   351.914129   \n",
       "min    8.670000e+03     6.981000      9.710000       43.790000   143.500000   \n",
       "25%    8.692180e+05    11.700000     16.170000       75.170000   420.300000   \n",
       "50%    9.060240e+05    13.370000     18.840000       86.240000   551.100000   \n",
       "75%    8.813129e+06    15.780000     21.800000      104.100000   782.700000   \n",
       "max    9.113205e+08    28.110000     39.280000      188.500000  2501.000000   \n",
       "\n",
       "       smoothness_mean  compactness_mean  concavity_mean  concave points_mean  \\\n",
       "count       569.000000        569.000000      569.000000           569.000000   \n",
       "mean          0.096360          0.104341        0.088799             0.048919   \n",
       "std           0.014064          0.052813        0.079720             0.038803   \n",
       "min           0.052630          0.019380        0.000000             0.000000   \n",
       "25%           0.086370          0.064920        0.029560             0.020310   \n",
       "50%           0.095870          0.092630        0.061540             0.033500   \n",
       "75%           0.105300          0.130400        0.130700             0.074000   \n",
       "max           0.163400          0.345400        0.426800             0.201200   \n",
       "\n",
       "       symmetry_mean  ...  radius_worst  texture_worst  perimeter_worst  \\\n",
       "count     569.000000  ...    569.000000     569.000000       569.000000   \n",
       "mean        0.181162  ...     16.269190      25.677223       107.261213   \n",
       "std         0.027414  ...      4.833242       6.146258        33.602542   \n",
       "min         0.106000  ...      7.930000      12.020000        50.410000   \n",
       "25%         0.161900  ...     13.010000      21.080000        84.110000   \n",
       "50%         0.179200  ...     14.970000      25.410000        97.660000   \n",
       "75%         0.195700  ...     18.790000      29.720000       125.400000   \n",
       "max         0.304000  ...     36.040000      49.540000       251.200000   \n",
       "\n",
       "        area_worst  smoothness_worst  compactness_worst  concavity_worst  \\\n",
       "count   569.000000        569.000000         569.000000       569.000000   \n",
       "mean    880.583128          0.132369           0.254265         0.272188   \n",
       "std     569.356993          0.022832           0.157336         0.208624   \n",
       "min     185.200000          0.071170           0.027290         0.000000   \n",
       "25%     515.300000          0.116600           0.147200         0.114500   \n",
       "50%     686.500000          0.131300           0.211900         0.226700   \n",
       "75%    1084.000000          0.146000           0.339100         0.382900   \n",
       "max    4254.000000          0.222600           1.058000         1.252000   \n",
       "\n",
       "       concave points_worst  symmetry_worst  fractal_dimension_worst  \n",
       "count            569.000000      569.000000               569.000000  \n",
       "mean               0.114606        0.290076                 0.083946  \n",
       "std                0.065732        0.061867                 0.018061  \n",
       "min                0.000000        0.156500                 0.055040  \n",
       "25%                0.064930        0.250400                 0.071460  \n",
       "50%                0.099930        0.282200                 0.080040  \n",
       "75%                0.161400        0.317900                 0.092080  \n",
       "max                0.291000        0.663800                 0.207500  \n",
       "\n",
       "[8 rows x 31 columns]"
      ]
     },
     "execution_count": 10,
     "metadata": {},
     "output_type": "execute_result"
    }
   ],
   "source": [
    "breast_cancer_data.describe()"
   ]
  },
  {
   "cell_type": "code",
   "execution_count": 11,
   "id": "f8cfb23a",
   "metadata": {},
   "outputs": [
    {
     "data": {
      "text/plain": [
       "B    357\n",
       "M    212\n",
       "Name: diagnosis, dtype: int64"
      ]
     },
     "execution_count": 11,
     "metadata": {},
     "output_type": "execute_result"
    }
   ],
   "source": [
    "breast_cancer_data['diagnosis'].value_counts()"
   ]
  },
  {
   "cell_type": "code",
   "execution_count": 14,
   "id": "8cca9a29",
   "metadata": {},
   "outputs": [
    {
     "data": {
      "image/png": "[encoded data removed]",
      "text/plain": [
       "<Figure size 640x480 with 1 Axes>"
      ]
     },
     "metadata": {},
     "output_type": "display_data"
    }
   ],
   "source": [
    "sns.countplot(x='diagnosis', data=breast_cancer_data)\n",
    "plt.show()"
   ]
  },
  {
   "cell_type": "code",
   "execution_count": 15,
   "id": "1d77b3ce",
   "metadata": {},
   "outputs": [],
   "source": [
    "# Label Encoding\n",
    "breast_cancer_data.replace({'diagnosis': {'B': 0, 'M': 1}}, inplace=True)"
   ]
  },
  {
   "cell_type": "code",
   "execution_count": 16,
   "id": "850222f2",
   "metadata": {},
   "outputs": [
    {
     "data": {
      "text/html": [
       "<div>\n",
       "<style scoped>\n",
       "    .dataframe tbody tr th:only-of-type {\n",
       "        vertical-align: middle;\n",
       "    }\n",
       "\n",
       "    .dataframe tbody tr th {\n",
       "        vertical-align: top;\n",
       "    }\n",
       "\n",
       "    .dataframe thead th {\n",
       "        text-align: right;\n",
       "    }\n",
       "</style>\n",
       "<table border=\"1\" class=\"dataframe\">\n",
       "  <thead>\n",
       "    <tr style=\"text-align: right;\">\n",
       "      <th></th>\n",
       "      <th>id</th>\n",
       "      <th>radius_mean</th>\n",
       "      <th>texture_mean</th>\n",
       "      <th>perimeter_mean</th>\n",
       "      <th>area_mean</th>\n",
       "      <th>smoothness_mean</th>\n",
       "      <th>compactness_mean</th>\n",
       "      <th>concavity_mean</th>\n",
       "      <th>concave points_mean</th>\n",
       "      <th>symmetry_mean</th>\n",
       "      <th>...</th>\n",
       "      <th>radius_worst</th>\n",
       "      <th>texture_worst</th>\n",
       "      <th>perimeter_worst</th>\n",
       "      <th>area_worst</th>\n",
       "      <th>smoothness_worst</th>\n",
       "      <th>compactness_worst</th>\n",
       "      <th>concavity_worst</th>\n",
       "      <th>concave points_worst</th>\n",
       "      <th>symmetry_worst</th>\n",
       "      <th>fractal_dimension_worst</th>\n",
       "    </tr>\n",
       "    <tr>\n",
       "      <th>diagnosis</th>\n",
       "      <th></th>\n",
       "      <th></th>\n",
       "      <th></th>\n",
       "      <th></th>\n",
       "      <th></th>\n",
       "      <th></th>\n",
       "      <th></th>\n",
       "      <th></th>\n",
       "      <th></th>\n",
       "      <th></th>\n",
       "      <th></th>\n",
       "      <th></th>\n",
       "      <th></th>\n",
       "      <th></th>\n",
       "      <th></th>\n",
       "      <th></th>\n",
       "      <th></th>\n",
       "      <th></th>\n",
       "      <th></th>\n",
       "      <th></th>\n",
       "      <th></th>\n",
       "    </tr>\n",
       "  </thead>\n",
       "  <tbody>\n",
       "    <tr>\n",
       "      <th>0</th>\n",
       "      <td>2.654382e+07</td>\n",
       "      <td>12.146524</td>\n",
       "      <td>17.914762</td>\n",
       "      <td>78.075406</td>\n",
       "      <td>462.790196</td>\n",
       "      <td>0.092478</td>\n",
       "      <td>0.080085</td>\n",
       "      <td>0.046058</td>\n",
       "      <td>0.025717</td>\n",
       "      <td>0.174186</td>\n",
       "      <td>...</td>\n",
       "      <td>13.379801</td>\n",
       "      <td>23.515070</td>\n",
       "      <td>87.005938</td>\n",
       "      <td>558.899440</td>\n",
       "      <td>0.124959</td>\n",
       "      <td>0.182673</td>\n",
       "      <td>0.166238</td>\n",
       "      <td>0.074444</td>\n",
       "      <td>0.270246</td>\n",
       "      <td>0.079442</td>\n",
       "    </tr>\n",
       "    <tr>\n",
       "      <th>1</th>\n",
       "      <td>3.681805e+07</td>\n",
       "      <td>17.462830</td>\n",
       "      <td>21.604906</td>\n",
       "      <td>115.365377</td>\n",
       "      <td>978.376415</td>\n",
       "      <td>0.102898</td>\n",
       "      <td>0.145188</td>\n",
       "      <td>0.160775</td>\n",
       "      <td>0.087990</td>\n",
       "      <td>0.192909</td>\n",
       "      <td>...</td>\n",
       "      <td>21.134811</td>\n",
       "      <td>29.318208</td>\n",
       "      <td>141.370330</td>\n",
       "      <td>1422.286321</td>\n",
       "      <td>0.144845</td>\n",
       "      <td>0.374824</td>\n",
       "      <td>0.450606</td>\n",
       "      <td>0.182237</td>\n",
       "      <td>0.323468</td>\n",
       "      <td>0.091530</td>\n",
       "    </tr>\n",
       "  </tbody>\n",
       "</table>\n",
       "<p>2 rows × 31 columns</p>\n",
       "</div>"
      ],
      "text/plain": [
       "                     id  radius_mean  texture_mean  perimeter_mean  \\\n",
       "diagnosis                                                            \n",
       "0          2.654382e+07    12.146524     17.914762       78.075406   \n",
       "1          3.681805e+07    17.462830     21.604906      115.365377   \n",
       "\n",
       "            area_mean  smoothness_mean  compactness_mean  concavity_mean  \\\n",
       "diagnosis                                                                  \n",
       "0          462.790196         0.092478          0.080085        0.046058   \n",
       "1          978.376415         0.102898          0.145188        0.160775   \n",
       "\n",
       "           concave points_mean  symmetry_mean  ...  radius_worst  \\\n",
       "diagnosis                                      ...                 \n",
       "0                     0.025717       0.174186  ...     13.379801   \n",
       "1                     0.087990       0.192909  ...     21.134811   \n",
       "\n",
       "           texture_worst  perimeter_worst   area_worst  smoothness_worst  \\\n",
       "diagnosis                                                                  \n",
       "0              23.515070        87.005938   558.899440          0.124959   \n",
       "1              29.318208       141.370330  1422.286321          0.144845   \n",
       "\n",
       "           compactness_worst  concavity_worst  concave points_worst  \\\n",
       "diagnosis                                                             \n",
       "0                   0.182673         0.166238              0.074444   \n",
       "1                   0.374824         0.450606              0.182237   \n",
       "\n",
       "           symmetry_worst  fractal_dimension_worst  \n",
       "diagnosis                                           \n",
       "0                0.270246                 0.079442  \n",
       "1                0.323468                 0.091530  \n",
       "\n",
       "[2 rows x 31 columns]"
      ]
     },
     "execution_count": 16,
     "metadata": {},
     "output_type": "execute_result"
    }
   ],
   "source": [
    "breast_cancer_data.groupby('diagnosis').mean()"
   ]
  },
  {
   "cell_type": "code",
   "execution_count": 17,
   "id": "53462017",
   "metadata": {},
   "outputs": [
    {
     "name": "stdout",
     "output_type": "stream",
     "text": [
      "<class 'pandas.core.frame.DataFrame'>\n",
      "RangeIndex: 569 entries, 0 to 568\n",
      "Data columns (total 32 columns):\n",
      " #   Column                   Non-Null Count  Dtype  \n",
      "---  ------                   --------------  -----  \n",
      " 0   id                       569 non-null    int64  \n",
      " 1   diagnosis                569 non-null    int64  \n",
      " 2   radius_mean              569 non-null    float64\n",
      " 3   texture_mean             569 non-null    float64\n",
      " 4   perimeter_mean           569 non-null    float64\n",
      " 5   area_mean                569 non-null    float64\n",
      " 6   smoothness_mean          569 non-null    float64\n",
      " 7   compactness_mean         569 non-null    float64\n",
      " 8   concavity_mean           569 non-null    float64\n",
      " 9   concave points_mean      569 non-null    float64\n",
      " 10  symmetry_mean            569 non-null    float64\n",
      " 11  fractal_dimension_mean   569 non-null    float64\n",
      " 12  radius_se                569 non-null    float64\n",
      " 13  texture_se               569 non-null    float64\n",
      " 14  perimeter_se             569 non-null    float64\n",
      " 15  area_se                  569 non-null    float64\n",
      " 16  smoothness_se            569 non-null    float64\n",
      " 17  compactness_se           569 non-null    float64\n",
      " 18  concavity_se             569 non-null    float64\n",
      " 19  concave points_se        569 non-null    float64\n",
      " 20  symmetry_se              569 non-null    float64\n",
      " 21  fractal_dimension_se     569 non-null    float64\n",
      " 22  radius_worst             569 non-null    float64\n",
      " 23  texture_worst            569 non-null    float64\n",
      " 24  perimeter_worst          569 non-null    float64\n",
      " 25  area_worst               569 non-null    float64\n",
      " 26  smoothness_worst         569 non-null    float64\n",
      " 27  compactness_worst        569 non-null    float64\n",
      " 28  concavity_worst          569 non-null    float64\n",
      " 29  concave points_worst     569 non-null    float64\n",
      " 30  symmetry_worst           569 non-null    float64\n",
      " 31  fractal_dimension_worst  569 non-null    float64\n",
      "dtypes: float64(30), int64(2)\n",
      "memory usage: 142.4 KB\n"
     ]
    }
   ],
   "source": [
    "breast_cancer_data.info()"
   ]
  },
  {
   "cell_type": "markdown",
   "id": "e8808495",
   "metadata": {},
   "source": [
    "## Splitting the features and the label"
   ]
  },
  {
   "cell_type": "code",
   "execution_count": 18,
   "id": "f95c148e",
   "metadata": {},
   "outputs": [],
   "source": [
    "X = breast_cancer_data.drop(columns=['id', 'diagnosis'])\n",
    "y = breast_cancer_data['diagnosis']"
   ]
  },
  {
   "cell_type": "code",
   "execution_count": 25,
   "id": "27d1382e",
   "metadata": {},
   "outputs": [
    {
     "data": {
      "text/plain": [
       "(569, 30)"
      ]
     },
     "execution_count": 25,
     "metadata": {},
     "output_type": "execute_result"
    }
   ],
   "source": [
    "X.shape"
   ]
  },
  {
   "cell_type": "markdown",
   "id": "39ef383d",
   "metadata": {},
   "source": [
    "## Splitting the dataset into training set and test set"
   ]
  },
  {
   "cell_type": "code",
   "execution_count": 20,
   "id": "995026ed",
   "metadata": {},
   "outputs": [],
   "source": [
    "X_train, X_test, y_train, y_test = train_test_split(X, y, test_size=0.2, stratify=y, random_state=0)"
   ]
  },
  {
   "cell_type": "markdown",
   "id": "05a2811c",
   "metadata": {},
   "source": [
    "## Feature Scaling"
   ]
  },
  {
   "cell_type": "code",
   "execution_count": 35,
   "id": "3cb1ec4c",
   "metadata": {},
   "outputs": [],
   "source": [
    "sc = StandardScaler()\n",
    "X_train = sc.fit_transform(X_train)\n",
    "X_test = sc.transform(X_test)"
   ]
  },
  {
   "cell_type": "markdown",
   "id": "0057eda4",
   "metadata": {},
   "source": [
    "## Building the Neural Network"
   ]
  },
  {
   "cell_type": "code",
   "execution_count": 36,
   "id": "29aecc1e",
   "metadata": {},
   "outputs": [],
   "source": [
    "# creating the layers of the neural network\n",
    "model = keras.Sequential([\n",
    "    keras.layers.Flatten(input_shape=(30,)), # X.shape[1]\n",
    "    keras.layers.Dense(20, activation='relu'),\n",
    "    keras.layers.Dense(2, activation='sigmoid')\n",
    "])"
   ]
  },
  {
   "cell_type": "code",
   "execution_count": 37,
   "id": "fc9f3d8d",
   "metadata": {},
   "outputs": [],
   "source": [
    "# compiling the neaural net\n",
    "model.compile(optimizer='adam',\n",
    "             loss='sparse_categorical_crossentropy',\n",
    "             metrics=['accuracy'])"
   ]
  },
  {
   "cell_type": "code",
   "execution_count": 38,
   "id": "9126b706",
   "metadata": {},
   "outputs": [
    {
     "name": "stdout",
     "output_type": "stream",
     "text": [
      "Epoch 1/100\n",
      "13/13 [==============================] - 1s 47ms/step - loss: 0.5443 - accuracy: 0.7726 - val_loss: 0.4313 - val_accuracy: 0.8913\n",
      "Epoch 2/100\n",
      "13/13 [==============================] - 0s 8ms/step - loss: 0.3711 - accuracy: 0.8802 - val_loss: 0.3081 - val_accuracy: 0.9130\n",
      "Epoch 3/100\n",
      "13/13 [==============================] - 0s 8ms/step - loss: 0.2826 - accuracy: 0.9218 - val_loss: 0.2377 - val_accuracy: 0.9348\n",
      "Epoch 4/100\n",
      "13/13 [==============================] - 0s 8ms/step - loss: 0.2316 - accuracy: 0.9315 - val_loss: 0.1928 - val_accuracy: 0.9348\n",
      "Epoch 5/100\n",
      "13/13 [==============================] - 0s 7ms/step - loss: 0.1972 - accuracy: 0.9340 - val_loss: 0.1620 - val_accuracy: 0.9348\n",
      "Epoch 6/100\n",
      "13/13 [==============================] - 0s 8ms/step - loss: 0.1735 - accuracy: 0.9413 - val_loss: 0.1399 - val_accuracy: 0.9348\n",
      "Epoch 7/100\n",
      "13/13 [==============================] - 0s 7ms/step - loss: 0.1558 - accuracy: 0.9438 - val_loss: 0.1224 - val_accuracy: 0.9348\n",
      "Epoch 8/100\n",
      "13/13 [==============================] - 0s 9ms/step - loss: 0.1417 - accuracy: 0.9487 - val_loss: 0.1088 - val_accuracy: 0.9565\n",
      "Epoch 9/100\n",
      "13/13 [==============================] - 0s 9ms/step - loss: 0.1304 - accuracy: 0.9560 - val_loss: 0.0981 - val_accuracy: 0.9565\n",
      "Epoch 10/100\n",
      "13/13 [==============================] - 0s 7ms/step - loss: 0.1217 - accuracy: 0.9609 - val_loss: 0.0882 - val_accuracy: 1.0000\n",
      "Epoch 11/100\n",
      "13/13 [==============================] - 0s 7ms/step - loss: 0.1140 - accuracy: 0.9609 - val_loss: 0.0808 - val_accuracy: 1.0000\n",
      "Epoch 12/100\n",
      "13/13 [==============================] - 0s 8ms/step - loss: 0.1074 - accuracy: 0.9633 - val_loss: 0.0739 - val_accuracy: 1.0000\n",
      "Epoch 13/100\n",
      "13/13 [==============================] - 0s 7ms/step - loss: 0.1019 - accuracy: 0.9609 - val_loss: 0.0685 - val_accuracy: 1.0000\n",
      "Epoch 14/100\n",
      "13/13 [==============================] - 0s 8ms/step - loss: 0.0971 - accuracy: 0.9633 - val_loss: 0.0635 - val_accuracy: 1.0000\n",
      "Epoch 15/100\n",
      "13/13 [==============================] - 0s 7ms/step - loss: 0.0926 - accuracy: 0.9682 - val_loss: 0.0600 - val_accuracy: 1.0000\n",
      "Epoch 16/100\n",
      "13/13 [==============================] - 0s 6ms/step - loss: 0.0887 - accuracy: 0.9682 - val_loss: 0.0565 - val_accuracy: 1.0000\n",
      "Epoch 17/100\n",
      "13/13 [==============================] - 0s 7ms/step - loss: 0.0853 - accuracy: 0.9731 - val_loss: 0.0536 - val_accuracy: 1.0000\n",
      "Epoch 18/100\n",
      "13/13 [==============================] - 0s 8ms/step - loss: 0.0821 - accuracy: 0.9731 - val_loss: 0.0507 - val_accuracy: 1.0000\n",
      "Epoch 19/100\n",
      "13/13 [==============================] - 0s 7ms/step - loss: 0.0792 - accuracy: 0.9780 - val_loss: 0.0480 - val_accuracy: 1.0000\n",
      "Epoch 20/100\n",
      "13/13 [==============================] - 0s 8ms/step - loss: 0.0765 - accuracy: 0.9780 - val_loss: 0.0465 - val_accuracy: 1.0000\n",
      "Epoch 21/100\n",
      "13/13 [==============================] - 0s 10ms/step - loss: 0.0740 - accuracy: 0.9780 - val_loss: 0.0443 - val_accuracy: 1.0000\n",
      "Epoch 22/100\n",
      "13/13 [==============================] - 0s 7ms/step - loss: 0.0718 - accuracy: 0.9804 - val_loss: 0.0430 - val_accuracy: 1.0000\n",
      "Epoch 23/100\n",
      "13/13 [==============================] - 0s 7ms/step - loss: 0.0696 - accuracy: 0.9804 - val_loss: 0.0411 - val_accuracy: 1.0000\n",
      "Epoch 24/100\n",
      "13/13 [==============================] - 0s 7ms/step - loss: 0.0677 - accuracy: 0.9804 - val_loss: 0.0398 - val_accuracy: 1.0000\n",
      "Epoch 25/100\n",
      "13/13 [==============================] - 0s 8ms/step - loss: 0.0658 - accuracy: 0.9829 - val_loss: 0.0386 - val_accuracy: 1.0000\n",
      "Epoch 26/100\n",
      "13/13 [==============================] - 0s 9ms/step - loss: 0.0640 - accuracy: 0.9829 - val_loss: 0.0376 - val_accuracy: 1.0000\n",
      "Epoch 27/100\n",
      "13/13 [==============================] - 0s 9ms/step - loss: 0.0625 - accuracy: 0.9829 - val_loss: 0.0366 - val_accuracy: 1.0000\n",
      "Epoch 28/100\n",
      "13/13 [==============================] - 0s 7ms/step - loss: 0.0609 - accuracy: 0.9829 - val_loss: 0.0358 - val_accuracy: 1.0000\n",
      "Epoch 29/100\n",
      "13/13 [==============================] - 0s 7ms/step - loss: 0.0595 - accuracy: 0.9829 - val_loss: 0.0347 - val_accuracy: 1.0000\n",
      "Epoch 30/100\n",
      "13/13 [==============================] - 0s 7ms/step - loss: 0.0580 - accuracy: 0.9829 - val_loss: 0.0338 - val_accuracy: 1.0000\n",
      "Epoch 31/100\n",
      "13/13 [==============================] - 0s 8ms/step - loss: 0.0568 - accuracy: 0.9829 - val_loss: 0.0327 - val_accuracy: 1.0000\n",
      "Epoch 32/100\n",
      "13/13 [==============================] - 0s 8ms/step - loss: 0.0555 - accuracy: 0.9829 - val_loss: 0.0325 - val_accuracy: 1.0000\n",
      "Epoch 33/100\n",
      "13/13 [==============================] - 0s 8ms/step - loss: 0.0543 - accuracy: 0.9853 - val_loss: 0.0318 - val_accuracy: 1.0000\n",
      "Epoch 34/100\n",
      "13/13 [==============================] - 0s 8ms/step - loss: 0.0530 - accuracy: 0.9853 - val_loss: 0.0317 - val_accuracy: 1.0000\n",
      "Epoch 35/100\n",
      "13/13 [==============================] - 0s 8ms/step - loss: 0.0517 - accuracy: 0.9853 - val_loss: 0.0314 - val_accuracy: 1.0000\n",
      "Epoch 36/100\n",
      "13/13 [==============================] - 0s 8ms/step - loss: 0.0507 - accuracy: 0.9878 - val_loss: 0.0308 - val_accuracy: 1.0000\n",
      "Epoch 37/100\n",
      "13/13 [==============================] - 0s 7ms/step - loss: 0.0496 - accuracy: 0.9878 - val_loss: 0.0304 - val_accuracy: 1.0000\n",
      "Epoch 38/100\n",
      "13/13 [==============================] - 0s 9ms/step - loss: 0.0487 - accuracy: 0.9878 - val_loss: 0.0305 - val_accuracy: 1.0000\n",
      "Epoch 39/100\n",
      "13/13 [==============================] - 0s 8ms/step - loss: 0.0477 - accuracy: 0.9902 - val_loss: 0.0293 - val_accuracy: 1.0000\n",
      "Epoch 40/100\n",
      "13/13 [==============================] - 0s 8ms/step - loss: 0.0467 - accuracy: 0.9902 - val_loss: 0.0291 - val_accuracy: 1.0000\n",
      "Epoch 41/100\n",
      "13/13 [==============================] - 0s 9ms/step - loss: 0.0460 - accuracy: 0.9902 - val_loss: 0.0285 - val_accuracy: 1.0000\n",
      "Epoch 42/100\n",
      "13/13 [==============================] - 0s 8ms/step - loss: 0.0449 - accuracy: 0.9902 - val_loss: 0.0283 - val_accuracy: 1.0000\n",
      "Epoch 43/100\n",
      "13/13 [==============================] - 0s 8ms/step - loss: 0.0441 - accuracy: 0.9927 - val_loss: 0.0283 - val_accuracy: 1.0000\n",
      "Epoch 44/100\n",
      "13/13 [==============================] - 0s 7ms/step - loss: 0.0432 - accuracy: 0.9927 - val_loss: 0.0283 - val_accuracy: 1.0000\n",
      "Epoch 45/100\n",
      "13/13 [==============================] - 0s 7ms/step - loss: 0.0425 - accuracy: 0.9927 - val_loss: 0.0279 - val_accuracy: 1.0000\n",
      "Epoch 46/100\n",
      "13/13 [==============================] - 0s 9ms/step - loss: 0.0417 - accuracy: 0.9927 - val_loss: 0.0276 - val_accuracy: 1.0000\n",
      "Epoch 47/100\n",
      "13/13 [==============================] - 0s 7ms/step - loss: 0.0409 - accuracy: 0.9927 - val_loss: 0.0274 - val_accuracy: 1.0000\n",
      "Epoch 48/100\n",
      "13/13 [==============================] - 0s 8ms/step - loss: 0.0402 - accuracy: 0.9927 - val_loss: 0.0271 - val_accuracy: 1.0000\n",
      "Epoch 49/100\n",
      "13/13 [==============================] - 0s 8ms/step - loss: 0.0396 - accuracy: 0.9927 - val_loss: 0.0267 - val_accuracy: 1.0000\n",
      "Epoch 50/100\n",
      "13/13 [==============================] - 0s 8ms/step - loss: 0.0388 - accuracy: 0.9927 - val_loss: 0.0264 - val_accuracy: 1.0000\n",
      "Epoch 51/100\n",
      "13/13 [==============================] - 0s 9ms/step - loss: 0.0381 - accuracy: 0.9927 - val_loss: 0.0264 - val_accuracy: 1.0000\n",
      "Epoch 52/100\n",
      "13/13 [==============================] - 0s 8ms/step - loss: 0.0375 - accuracy: 0.9927 - val_loss: 0.0261 - val_accuracy: 1.0000\n",
      "Epoch 53/100\n",
      "13/13 [==============================] - 0s 10ms/step - loss: 0.0367 - accuracy: 0.9927 - val_loss: 0.0262 - val_accuracy: 1.0000\n",
      "Epoch 54/100\n",
      "13/13 [==============================] - 0s 8ms/step - loss: 0.0362 - accuracy: 0.9927 - val_loss: 0.0261 - val_accuracy: 1.0000\n",
      "Epoch 55/100\n",
      "13/13 [==============================] - 0s 8ms/step - loss: 0.0354 - accuracy: 0.9927 - val_loss: 0.0260 - val_accuracy: 1.0000\n",
      "Epoch 56/100\n",
      "13/13 [==============================] - 0s 8ms/step - loss: 0.0348 - accuracy: 0.9927 - val_loss: 0.0253 - val_accuracy: 1.0000\n",
      "Epoch 57/100\n",
      "13/13 [==============================] - 0s 7ms/step - loss: 0.0342 - accuracy: 0.9927 - val_loss: 0.0256 - val_accuracy: 1.0000\n",
      "Epoch 58/100\n",
      "13/13 [==============================] - 0s 8ms/step - loss: 0.0336 - accuracy: 0.9927 - val_loss: 0.0252 - val_accuracy: 1.0000\n"
     ]
    },
    {
     "name": "stdout",
     "output_type": "stream",
     "text": [
      "Epoch 59/100\n",
      "13/13 [==============================] - 0s 7ms/step - loss: 0.0329 - accuracy: 0.9927 - val_loss: 0.0249 - val_accuracy: 1.0000\n",
      "Epoch 60/100\n",
      "13/13 [==============================] - 0s 8ms/step - loss: 0.0323 - accuracy: 0.9927 - val_loss: 0.0250 - val_accuracy: 1.0000\n",
      "Epoch 61/100\n",
      "13/13 [==============================] - 0s 8ms/step - loss: 0.0318 - accuracy: 0.9927 - val_loss: 0.0249 - val_accuracy: 1.0000\n",
      "Epoch 62/100\n",
      "13/13 [==============================] - 0s 7ms/step - loss: 0.0314 - accuracy: 0.9927 - val_loss: 0.0247 - val_accuracy: 1.0000\n",
      "Epoch 63/100\n",
      "13/13 [==============================] - 0s 7ms/step - loss: 0.0307 - accuracy: 0.9927 - val_loss: 0.0240 - val_accuracy: 1.0000\n",
      "Epoch 64/100\n",
      "13/13 [==============================] - 0s 10ms/step - loss: 0.0302 - accuracy: 0.9927 - val_loss: 0.0239 - val_accuracy: 1.0000\n",
      "Epoch 65/100\n",
      "13/13 [==============================] - 0s 9ms/step - loss: 0.0298 - accuracy: 0.9927 - val_loss: 0.0240 - val_accuracy: 1.0000\n",
      "Epoch 66/100\n",
      "13/13 [==============================] - 0s 8ms/step - loss: 0.0293 - accuracy: 0.9927 - val_loss: 0.0237 - val_accuracy: 1.0000\n",
      "Epoch 67/100\n",
      "13/13 [==============================] - 0s 7ms/step - loss: 0.0287 - accuracy: 0.9927 - val_loss: 0.0237 - val_accuracy: 1.0000\n",
      "Epoch 68/100\n",
      "13/13 [==============================] - 0s 8ms/step - loss: 0.0281 - accuracy: 0.9927 - val_loss: 0.0234 - val_accuracy: 1.0000\n",
      "Epoch 69/100\n",
      "13/13 [==============================] - 0s 8ms/step - loss: 0.0276 - accuracy: 0.9927 - val_loss: 0.0231 - val_accuracy: 1.0000\n",
      "Epoch 70/100\n",
      "13/13 [==============================] - 0s 7ms/step - loss: 0.0275 - accuracy: 0.9927 - val_loss: 0.0235 - val_accuracy: 1.0000\n",
      "Epoch 71/100\n",
      "13/13 [==============================] - 0s 8ms/step - loss: 0.0268 - accuracy: 0.9927 - val_loss: 0.0232 - val_accuracy: 1.0000\n",
      "Epoch 72/100\n",
      "13/13 [==============================] - 0s 7ms/step - loss: 0.0262 - accuracy: 0.9927 - val_loss: 0.0231 - val_accuracy: 1.0000\n",
      "Epoch 73/100\n",
      "13/13 [==============================] - 0s 8ms/step - loss: 0.0258 - accuracy: 0.9927 - val_loss: 0.0229 - val_accuracy: 1.0000\n",
      "Epoch 74/100\n",
      "13/13 [==============================] - 0s 7ms/step - loss: 0.0254 - accuracy: 0.9927 - val_loss: 0.0236 - val_accuracy: 1.0000\n",
      "Epoch 75/100\n",
      "13/13 [==============================] - 0s 8ms/step - loss: 0.0250 - accuracy: 0.9927 - val_loss: 0.0235 - val_accuracy: 1.0000\n",
      "Epoch 76/100\n",
      "13/13 [==============================] - 0s 8ms/step - loss: 0.0246 - accuracy: 0.9927 - val_loss: 0.0231 - val_accuracy: 1.0000\n",
      "Epoch 77/100\n",
      "13/13 [==============================] - 0s 8ms/step - loss: 0.0240 - accuracy: 0.9927 - val_loss: 0.0228 - val_accuracy: 1.0000\n",
      "Epoch 78/100\n",
      "13/13 [==============================] - 0s 7ms/step - loss: 0.0237 - accuracy: 0.9927 - val_loss: 0.0225 - val_accuracy: 1.0000\n",
      "Epoch 79/100\n",
      "13/13 [==============================] - 0s 7ms/step - loss: 0.0233 - accuracy: 0.9927 - val_loss: 0.0230 - val_accuracy: 1.0000\n",
      "Epoch 80/100\n",
      "13/13 [==============================] - 0s 8ms/step - loss: 0.0228 - accuracy: 0.9927 - val_loss: 0.0231 - val_accuracy: 1.0000\n",
      "Epoch 81/100\n",
      "13/13 [==============================] - 0s 7ms/step - loss: 0.0226 - accuracy: 0.9927 - val_loss: 0.0228 - val_accuracy: 1.0000\n",
      "Epoch 82/100\n",
      "13/13 [==============================] - 0s 7ms/step - loss: 0.0221 - accuracy: 0.9927 - val_loss: 0.0225 - val_accuracy: 1.0000\n",
      "Epoch 83/100\n",
      "13/13 [==============================] - 0s 8ms/step - loss: 0.0216 - accuracy: 0.9951 - val_loss: 0.0228 - val_accuracy: 1.0000\n",
      "Epoch 84/100\n",
      "13/13 [==============================] - 0s 10ms/step - loss: 0.0214 - accuracy: 0.9951 - val_loss: 0.0227 - val_accuracy: 1.0000\n",
      "Epoch 85/100\n",
      "13/13 [==============================] - 0s 8ms/step - loss: 0.0209 - accuracy: 0.9951 - val_loss: 0.0226 - val_accuracy: 1.0000\n",
      "Epoch 86/100\n",
      "13/13 [==============================] - 0s 8ms/step - loss: 0.0205 - accuracy: 0.9951 - val_loss: 0.0226 - val_accuracy: 1.0000\n",
      "Epoch 87/100\n",
      "13/13 [==============================] - 0s 9ms/step - loss: 0.0202 - accuracy: 0.9951 - val_loss: 0.0231 - val_accuracy: 1.0000\n",
      "Epoch 88/100\n",
      "13/13 [==============================] - 0s 7ms/step - loss: 0.0200 - accuracy: 0.9951 - val_loss: 0.0231 - val_accuracy: 1.0000\n",
      "Epoch 89/100\n",
      "13/13 [==============================] - 0s 8ms/step - loss: 0.0195 - accuracy: 0.9951 - val_loss: 0.0227 - val_accuracy: 1.0000\n",
      "Epoch 90/100\n",
      "13/13 [==============================] - 0s 7ms/step - loss: 0.0192 - accuracy: 0.9951 - val_loss: 0.0232 - val_accuracy: 1.0000\n",
      "Epoch 91/100\n",
      "13/13 [==============================] - 0s 7ms/step - loss: 0.0189 - accuracy: 0.9951 - val_loss: 0.0237 - val_accuracy: 1.0000\n",
      "Epoch 92/100\n",
      "13/13 [==============================] - 0s 8ms/step - loss: 0.0186 - accuracy: 0.9951 - val_loss: 0.0240 - val_accuracy: 1.0000\n",
      "Epoch 93/100\n",
      "13/13 [==============================] - 0s 8ms/step - loss: 0.0181 - accuracy: 0.9951 - val_loss: 0.0233 - val_accuracy: 1.0000\n",
      "Epoch 94/100\n",
      "13/13 [==============================] - 0s 8ms/step - loss: 0.0179 - accuracy: 0.9951 - val_loss: 0.0233 - val_accuracy: 1.0000\n",
      "Epoch 95/100\n",
      "13/13 [==============================] - 0s 7ms/step - loss: 0.0175 - accuracy: 0.9951 - val_loss: 0.0232 - val_accuracy: 1.0000\n",
      "Epoch 96/100\n",
      "13/13 [==============================] - 0s 6ms/step - loss: 0.0172 - accuracy: 0.9951 - val_loss: 0.0232 - val_accuracy: 1.0000\n",
      "Epoch 97/100\n",
      "13/13 [==============================] - 0s 7ms/step - loss: 0.0169 - accuracy: 0.9951 - val_loss: 0.0228 - val_accuracy: 1.0000\n",
      "Epoch 98/100\n",
      "13/13 [==============================] - 0s 7ms/step - loss: 0.0165 - accuracy: 0.9951 - val_loss: 0.0235 - val_accuracy: 1.0000\n",
      "Epoch 99/100\n",
      "13/13 [==============================] - 0s 7ms/step - loss: 0.0163 - accuracy: 0.9951 - val_loss: 0.0233 - val_accuracy: 1.0000\n",
      "Epoch 100/100\n",
      "13/13 [==============================] - 0s 7ms/step - loss: 0.0160 - accuracy: 0.9951 - val_loss: 0.0233 - val_accuracy: 1.0000\n"
     ]
    }
   ],
   "source": [
    "# training the neural net\n",
    "history = model.fit(X_train, y_train, validation_split=0.1, epochs=100)"
   ]
  },
  {
   "cell_type": "markdown",
   "id": "88afb964",
   "metadata": {},
   "source": [
    "## Visualizing Accuracy & Loss"
   ]
  },
  {
   "cell_type": "code",
   "execution_count": 40,
   "id": "c0ce28c2",
   "metadata": {},
   "outputs": [
    {
     "data": {
      "image/png": "[encoded data removed]",
      "text/plain": [
       "<Figure size 640x480 with 1 Axes>"
      ]
     },
     "metadata": {},
     "output_type": "display_data"
    }
   ],
   "source": [
    "plt.plot(history.history['accuracy'])\n",
    "plt.plot(history.history['val_accuracy'])\n",
    "plt.title('Model Accuracy')\n",
    "plt.ylabel('Accuracy')\n",
    "plt.xlabel('Epochs')\n",
    "plt.legend(['Training Data', 'Validation Data'], loc='lower right')\n",
    "plt.show()"
   ]
  },
  {
   "cell_type": "code",
   "execution_count": 47,
   "id": "7635ef01",
   "metadata": {},
   "outputs": [
    {
     "data": {
      "image/png": "[encoded data removed]",
      "text/plain": [
       "<Figure size 640x480 with 1 Axes>"
      ]
     },
     "metadata": {},
     "output_type": "display_data"
    }
   ],
   "source": [
    "plt.plot(history.history['loss'])\n",
    "plt.plot(history.history['val_loss'])\n",
    "plt.title('Model Loss')\n",
    "plt.ylabel('Loss')\n",
    "plt.xlabel('Epochs')\n",
    "plt.legend(['Training Data', 'Validation Data'], loc='lower right')\n",
    "plt.show()"
   ]
  },
  {
   "cell_type": "code",
   "execution_count": 63,
   "id": "9355ae0a",
   "metadata": {},
   "outputs": [
    {
     "name": "stdout",
     "output_type": "stream",
     "text": [
      "{'loss': [0.5443422794342041, 0.3711089789867401, 0.2825593948364258, 0.2316163182258606, 0.19719263911247253, 0.17345327138900757, 0.15575677156448364, 0.14171336591243744, 0.13044388592243195, 0.12166274338960648, 0.11403641849756241, 0.10742509365081787, 0.10192790627479553, 0.0970795750617981, 0.09259866178035736, 0.08874746412038803, 0.08525767177343369, 0.08207300305366516, 0.07915221899747849, 0.07649051398038864, 0.0740184336900711, 0.07179940491914749, 0.06960347294807434, 0.06773480027914047, 0.06577268242835999, 0.064043790102005, 0.062469303607940674, 0.060942962765693665, 0.05953414738178253, 0.05795807018876076, 0.056803107261657715, 0.05546586960554123, 0.054290395230054855, 0.0529625304043293, 0.051749132573604584, 0.050670307129621506, 0.049625467509031296, 0.048710595816373825, 0.047684431076049805, 0.046693142503499985, 0.046039968729019165, 0.04493008181452751, 0.04406873509287834, 0.043199796229600906, 0.042450569570064545, 0.04171023517847061, 0.04092162102460861, 0.040202002972364426, 0.0395568385720253, 0.03877069428563118, 0.038090839982032776, 0.03752290457487106, 0.036721449345350266, 0.036225803196430206, 0.03536738455295563, 0.034848202019929886, 0.034245815128088, 0.0336126983165741, 0.032924722880125046, 0.03234129771590233, 0.03182762861251831, 0.03135265037417412, 0.03067176602780819, 0.03020300157368183, 0.029812710359692574, 0.029310107231140137, 0.028679538518190384, 0.02810300514101982, 0.027636537328362465, 0.027453845366835594, 0.02680157497525215, 0.026183046400547028, 0.02580416575074196, 0.02538534626364708, 0.025019114837050438, 0.024640602990984917, 0.024032937362790108, 0.023747557774186134, 0.023318292573094368, 0.022827565670013428, 0.022560760378837585, 0.02209891751408577, 0.021636277437210083, 0.02137891761958599, 0.020883895456790924, 0.020531898364424706, 0.020217644050717354, 0.019950246438384056, 0.019514184445142746, 0.019162027165293694, 0.01886110007762909, 0.018562382087111473, 0.018091147765517235, 0.017889024689793587, 0.01746455766260624, 0.017178362235426903, 0.01687602885067463, 0.016548527404665947, 0.01630065031349659, 0.01595303975045681], 'accuracy': [0.7726161479949951, 0.8801956176757812, 0.9217603802680969, 0.9315403699874878, 0.9339853525161743, 0.9413203001022339, 0.9437652826309204, 0.9486552476882935, 0.955990195274353, 0.9608802199363708, 0.9608802199363708, 0.9633252024650574, 0.9608802199363708, 0.9633252024650574, 0.9682151675224304, 0.9682151675224304, 0.9731051325798035, 0.9731051325798035, 0.9779950976371765, 0.9779950976371765, 0.9779950976371765, 0.980440080165863, 0.980440080165863, 0.980440080165863, 0.9828850626945496, 0.9828850626945496, 0.9828850626945496, 0.9828850626945496, 0.9828850626945496, 0.9828850626945496, 0.9828850626945496, 0.9828850626945496, 0.9853300452232361, 0.9853300452232361, 0.9853300452232361, 0.9877750873565674, 0.9877750873565674, 0.9877750873565674, 0.9902200698852539, 0.9902200698852539, 0.9902200698852539, 0.9902200698852539, 0.9926650524139404, 0.9926650524139404, 0.9926650524139404, 0.9926650524139404, 0.9926650524139404, 0.9926650524139404, 0.9926650524139404, 0.9926650524139404, 0.9926650524139404, 0.9926650524139404, 0.9926650524139404, 0.9926650524139404, 0.9926650524139404, 0.9926650524139404, 0.9926650524139404, 0.9926650524139404, 0.9926650524139404, 0.9926650524139404, 0.9926650524139404, 0.9926650524139404, 0.9926650524139404, 0.9926650524139404, 0.9926650524139404, 0.9926650524139404, 0.9926650524139404, 0.9926650524139404, 0.9926650524139404, 0.9926650524139404, 0.9926650524139404, 0.9926650524139404, 0.9926650524139404, 0.9926650524139404, 0.9926650524139404, 0.9926650524139404, 0.9926650524139404, 0.9926650524139404, 0.9926650524139404, 0.9926650524139404, 0.9926650524139404, 0.9926650524139404, 0.995110034942627, 0.995110034942627, 0.995110034942627, 0.995110034942627, 0.995110034942627, 0.995110034942627, 0.995110034942627, 0.995110034942627, 0.995110034942627, 0.995110034942627, 0.995110034942627, 0.995110034942627, 0.995110034942627, 0.995110034942627, 0.995110034942627, 0.995110034942627, 0.995110034942627, 0.995110034942627], 'val_loss': [0.43130195140838623, 0.3080526888370514, 0.23769055306911469, 0.1927589327096939, 0.1619948148727417, 0.13991793990135193, 0.12238454818725586, 0.10882320255041122, 0.09808211028575897, 0.08817186206579208, 0.08079211413860321, 0.07389558106660843, 0.06849955767393112, 0.06350291520357132, 0.06002854183316231, 0.05651456490159035, 0.05361209809780121, 0.050682105123996735, 0.048006344586610794, 0.04649088531732559, 0.04432806745171547, 0.043031398206949234, 0.041092146188020706, 0.039826542139053345, 0.03861572965979576, 0.0376388356089592, 0.03663288801908493, 0.03578818961977959, 0.03471587598323822, 0.03377935662865639, 0.03272535651922226, 0.032481495290994644, 0.031763892620801926, 0.03170819953083992, 0.03135932609438896, 0.030813846737146378, 0.03036555089056492, 0.030516549944877625, 0.02928987331688404, 0.029062436893582344, 0.028528816998004913, 0.028348524123430252, 0.028342248871922493, 0.028252778574824333, 0.027890462428331375, 0.02760525979101658, 0.027394454926252365, 0.027056341990828514, 0.02674175426363945, 0.0264311321079731, 0.02641667053103447, 0.026066122576594353, 0.026178447529673576, 0.02608998492360115, 0.025953100994229317, 0.025278430432081223, 0.025571143254637718, 0.02515624836087227, 0.024940049275755882, 0.0250040702521801, 0.024869363754987717, 0.02465573139488697, 0.024003252387046814, 0.023856360465288162, 0.023955749347805977, 0.023659618571400642, 0.02369288168847561, 0.023439420387148857, 0.02309633418917656, 0.023454055190086365, 0.023151004686951637, 0.0231150072067976, 0.022855380550026894, 0.02356245182454586, 0.023506421595811844, 0.023124216124415398, 0.022811828181147575, 0.0224724393337965, 0.02297862246632576, 0.023109083995223045, 0.022792736068367958, 0.02248997800052166, 0.02276606671512127, 0.022718345746397972, 0.022557642310857773, 0.022617977112531662, 0.02308688499033451, 0.023100541904568672, 0.022660579532384872, 0.02319108135998249, 0.023723246529698372, 0.024044949561357498, 0.02332277223467827, 0.023309309035539627, 0.02324056811630726, 0.02319379709661007, 0.02284940890967846, 0.023457108065485954, 0.023311130702495575, 0.023348668590188026], 'val_accuracy': [0.8913043737411499, 0.9130434989929199, 0.9347826242446899, 0.9347826242446899, 0.9347826242446899, 0.9347826242446899, 0.9347826242446899, 0.95652174949646, 0.95652174949646, 1.0, 1.0, 1.0, 1.0, 1.0, 1.0, 1.0, 1.0, 1.0, 1.0, 1.0, 1.0, 1.0, 1.0, 1.0, 1.0, 1.0, 1.0, 1.0, 1.0, 1.0, 1.0, 1.0, 1.0, 1.0, 1.0, 1.0, 1.0, 1.0, 1.0, 1.0, 1.0, 1.0, 1.0, 1.0, 1.0, 1.0, 1.0, 1.0, 1.0, 1.0, 1.0, 1.0, 1.0, 1.0, 1.0, 1.0, 1.0, 1.0, 1.0, 1.0, 1.0, 1.0, 1.0, 1.0, 1.0, 1.0, 1.0, 1.0, 1.0, 1.0, 1.0, 1.0, 1.0, 1.0, 1.0, 1.0, 1.0, 1.0, 1.0, 1.0, 1.0, 1.0, 1.0, 1.0, 1.0, 1.0, 1.0, 1.0, 1.0, 1.0, 1.0, 1.0, 1.0, 1.0, 1.0, 1.0, 1.0, 1.0, 1.0, 1.0]}\n"
     ]
    }
   ],
   "source": [
    "print(history.history)"
   ]
  },
  {
   "cell_type": "markdown",
   "id": "35c1e9d3",
   "metadata": {},
   "source": [
    "## Accuracy of the Model on Test Data"
   ]
  },
  {
   "cell_type": "code",
   "execution_count": 41,
   "id": "293f8a94",
   "metadata": {},
   "outputs": [
    {
     "name": "stdout",
     "output_type": "stream",
     "text": [
      "4/4 [==============================] - 0s 5ms/step - loss: 0.1190 - accuracy: 0.9561\n"
     ]
    }
   ],
   "source": [
    "loss, accuracy = model.evaluate(X_test, y_test)"
   ]
  },
  {
   "cell_type": "code",
   "execution_count": 42,
   "id": "d1b1eb80",
   "metadata": {},
   "outputs": [
    {
     "name": "stdout",
     "output_type": "stream",
     "text": [
      "0.9561403393745422\n",
      "0.11896384507417679\n"
     ]
    }
   ],
   "source": [
    "print(accuracy)\n",
    "print(loss)"
   ]
  },
  {
   "cell_type": "code",
   "execution_count": 48,
   "id": "9684aaf9",
   "metadata": {},
   "outputs": [
    {
     "name": "stdout",
     "output_type": "stream",
     "text": [
      "4/4 [==============================] - 0s 3ms/step\n"
     ]
    }
   ],
   "source": [
    "y_pred_test = model.predict(X_test)"
   ]
  },
  {
   "cell_type": "code",
   "execution_count": 50,
   "id": "646bf631",
   "metadata": {},
   "outputs": [
    {
     "data": {
      "text/plain": [
       "(114, 2)"
      ]
     },
     "execution_count": 50,
     "metadata": {},
     "output_type": "execute_result"
    }
   ],
   "source": [
    "y_pred_test.shape"
   ]
  },
  {
   "cell_type": "code",
   "execution_count": 51,
   "id": "a02d61bd",
   "metadata": {},
   "outputs": [
    {
     "data": {
      "text/plain": [
       "array([0.99827754, 0.04985614], dtype=float32)"
      ]
     },
     "execution_count": 51,
     "metadata": {},
     "output_type": "execute_result"
    }
   ],
   "source": [
    "y_pred_test[0]"
   ]
  },
  {
   "cell_type": "code",
   "execution_count": 55,
   "id": "8d6d15e6",
   "metadata": {},
   "outputs": [
    {
     "data": {
      "text/plain": [
       "2"
      ]
     },
     "execution_count": 55,
     "metadata": {},
     "output_type": "execute_result"
    }
   ],
   "source": [
    "np.argmax([10, 20, 78]) # index of max value"
   ]
  },
  {
   "cell_type": "code",
   "execution_count": 52,
   "id": "9d8db978",
   "metadata": {},
   "outputs": [],
   "source": [
    "# converting the probability to class label\n",
    "y_pred_test_labels = [np.argmax(i) for i in y_pred_test]"
   ]
  },
  {
   "cell_type": "code",
   "execution_count": 53,
   "id": "ae9e3429",
   "metadata": {},
   "outputs": [
    {
     "data": {
      "text/plain": [
       "[0,\n",
       " 0,\n",
       " 0,\n",
       " 0,\n",
       " 0,\n",
       " 1,\n",
       " 0,\n",
       " 0,\n",
       " 1,\n",
       " 0,\n",
       " 0,\n",
       " 1,\n",
       " 1,\n",
       " 0,\n",
       " 1,\n",
       " 0,\n",
       " 0,\n",
       " 0,\n",
       " 0,\n",
       " 1,\n",
       " 1,\n",
       " 1,\n",
       " 1,\n",
       " 1,\n",
       " 1,\n",
       " 0,\n",
       " 0,\n",
       " 0,\n",
       " 0,\n",
       " 1,\n",
       " 0,\n",
       " 1,\n",
       " 0,\n",
       " 1,\n",
       " 0,\n",
       " 0,\n",
       " 0,\n",
       " 0,\n",
       " 0,\n",
       " 1,\n",
       " 0,\n",
       " 0,\n",
       " 0,\n",
       " 1,\n",
       " 0,\n",
       " 0,\n",
       " 0,\n",
       " 0,\n",
       " 1,\n",
       " 0,\n",
       " 0,\n",
       " 0,\n",
       " 0,\n",
       " 0,\n",
       " 0,\n",
       " 1,\n",
       " 1,\n",
       " 1,\n",
       " 0,\n",
       " 0,\n",
       " 0,\n",
       " 1,\n",
       " 0,\n",
       " 1,\n",
       " 0,\n",
       " 0,\n",
       " 0,\n",
       " 1,\n",
       " 1,\n",
       " 1,\n",
       " 0,\n",
       " 0,\n",
       " 0,\n",
       " 0,\n",
       " 0,\n",
       " 1,\n",
       " 1,\n",
       " 1,\n",
       " 0,\n",
       " 0,\n",
       " 0,\n",
       " 0,\n",
       " 0,\n",
       " 0,\n",
       " 1,\n",
       " 1,\n",
       " 1,\n",
       " 0,\n",
       " 0,\n",
       " 1,\n",
       " 0,\n",
       " 1,\n",
       " 1,\n",
       " 0,\n",
       " 0,\n",
       " 0,\n",
       " 1,\n",
       " 1,\n",
       " 0,\n",
       " 0,\n",
       " 1,\n",
       " 0,\n",
       " 1,\n",
       " 1,\n",
       " 0,\n",
       " 0,\n",
       " 1,\n",
       " 1,\n",
       " 1,\n",
       " 0,\n",
       " 0,\n",
       " 0,\n",
       " 1,\n",
       " 0]"
      ]
     },
     "execution_count": 53,
     "metadata": {},
     "output_type": "execute_result"
    }
   ],
   "source": [
    "y_pred_test_labels"
   ]
  },
  {
   "cell_type": "code",
   "execution_count": 58,
   "id": "80bd0cc3",
   "metadata": {},
   "outputs": [
    {
     "name": "stdout",
     "output_type": "stream",
     "text": [
      "Accuracy score = 95.61%\n"
     ]
    }
   ],
   "source": [
    "print('Accuracy score = {:.2f}%'.format(accuracy_score(y_test, y_pred_test_labels) * 100))"
   ]
  },
  {
   "cell_type": "code",
   "execution_count": 61,
   "id": "741bc2bd",
   "metadata": {},
   "outputs": [
    {
     "name": "stdout",
     "output_type": "stream",
     "text": [
      "[[69  3]\n",
      " [ 2 40]]\n"
     ]
    }
   ],
   "source": [
    "print(confusion_matrix(y_test, y_pred_test_labels))"
   ]
  },
  {
   "cell_type": "code",
   "execution_count": null,
   "id": "88fe866a",
   "metadata": {},
   "outputs": [],
   "source": []
  }
 ],
 "metadata": {
  "kernelspec": {
   "display_name": "Python 3 (ipykernel)",
   "language": "python",
   "name": "python3"
  },
  "language_info": {
   "codemirror_mode": {
    "name": "ipython",
    "version": 3
   },
   "file_extension": ".py",
   "mimetype": "text/x-python",
   "name": "python",
   "nbconvert_exporter": "python",
   "pygments_lexer": "ipython3",
   "version": "3.9.13"
  }
 },
 "nbformat": 4,
 "nbformat_minor": 5
}
